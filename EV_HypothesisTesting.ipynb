{
 "cells": [
  {
   "attachments": {},
   "cell_type": "markdown",
   "metadata": {},
   "source": [
    "EV HypothesisTesting\n",
    "\n",
    "En esta actividad vamos a realizar un análisis de unos datos sobre los equipos de futbol de las 5 principales liagas.\n",
    "Para comenzar importamos las librerías que se van a usar y cargamos el archivo CSV para ver que contiene. "
   ]
  },
  {
   "cell_type": "code",
   "execution_count": 2,
   "metadata": {},
   "outputs": [
    {
     "data": {
      "text/html": [
       "<div>\n",
       "<style scoped>\n",
       "    .dataframe tbody tr th:only-of-type {\n",
       "        vertical-align: middle;\n",
       "    }\n",
       "\n",
       "    .dataframe tbody tr th {\n",
       "        vertical-align: top;\n",
       "    }\n",
       "\n",
       "    .dataframe thead th {\n",
       "        text-align: right;\n",
       "    }\n",
       "</style>\n",
       "<table border=\"1\" class=\"dataframe\">\n",
       "  <thead>\n",
       "    <tr style=\"text-align: right;\">\n",
       "      <th></th>\n",
       "      <th>Rk</th>\n",
       "      <th>Squad</th>\n",
       "      <th>Country</th>\n",
       "      <th>LgRk</th>\n",
       "      <th>MP</th>\n",
       "      <th>W</th>\n",
       "      <th>D</th>\n",
       "      <th>L</th>\n",
       "      <th>GF</th>\n",
       "      <th>GA</th>\n",
       "      <th>...</th>\n",
       "      <th>Pts</th>\n",
       "      <th>Pts/MP</th>\n",
       "      <th>xG</th>\n",
       "      <th>xGA</th>\n",
       "      <th>xGD</th>\n",
       "      <th>xGD/90</th>\n",
       "      <th>Last 5</th>\n",
       "      <th>Attendance</th>\n",
       "      <th>Top Team Scorer</th>\n",
       "      <th>Goalkeeper</th>\n",
       "    </tr>\n",
       "  </thead>\n",
       "  <tbody>\n",
       "    <tr>\n",
       "      <th>0</th>\n",
       "      <td>1</td>\n",
       "      <td>Napoli</td>\n",
       "      <td>it ITA</td>\n",
       "      <td>1</td>\n",
       "      <td>25</td>\n",
       "      <td>21</td>\n",
       "      <td>2</td>\n",
       "      <td>2</td>\n",
       "      <td>58</td>\n",
       "      <td>16</td>\n",
       "      <td>...</td>\n",
       "      <td>65</td>\n",
       "      <td>2.60</td>\n",
       "      <td>46.9</td>\n",
       "      <td>20.0</td>\n",
       "      <td>26.9</td>\n",
       "      <td>1.08</td>\n",
       "      <td>W W W W L</td>\n",
       "      <td>32077</td>\n",
       "      <td>Victor Osimhen - 19</td>\n",
       "      <td>Alex Meret</td>\n",
       "    </tr>\n",
       "    <tr>\n",
       "      <th>1</th>\n",
       "      <td>2</td>\n",
       "      <td>Barcelona</td>\n",
       "      <td>es ESP</td>\n",
       "      <td>1</td>\n",
       "      <td>24</td>\n",
       "      <td>20</td>\n",
       "      <td>2</td>\n",
       "      <td>2</td>\n",
       "      <td>46</td>\n",
       "      <td>8</td>\n",
       "      <td>...</td>\n",
       "      <td>62</td>\n",
       "      <td>2.58</td>\n",
       "      <td>48.2</td>\n",
       "      <td>19.6</td>\n",
       "      <td>28.7</td>\n",
       "      <td>1.19</td>\n",
       "      <td>W W W L W</td>\n",
       "      <td>82492</td>\n",
       "      <td>Robert Lewandowski - 15</td>\n",
       "      <td>Marc-André ter Stegen</td>\n",
       "    </tr>\n",
       "    <tr>\n",
       "      <th>2</th>\n",
       "      <td>3</td>\n",
       "      <td>Paris S-G</td>\n",
       "      <td>fr FRA</td>\n",
       "      <td>1</td>\n",
       "      <td>26</td>\n",
       "      <td>20</td>\n",
       "      <td>3</td>\n",
       "      <td>3</td>\n",
       "      <td>66</td>\n",
       "      <td>25</td>\n",
       "      <td>...</td>\n",
       "      <td>63</td>\n",
       "      <td>2.42</td>\n",
       "      <td>56.2</td>\n",
       "      <td>30.9</td>\n",
       "      <td>25.3</td>\n",
       "      <td>0.97</td>\n",
       "      <td>W L W W W</td>\n",
       "      <td>42615</td>\n",
       "      <td>Kylian Mbappé - 18</td>\n",
       "      <td>Gianluigi Donnarumma</td>\n",
       "    </tr>\n",
       "    <tr>\n",
       "      <th>3</th>\n",
       "      <td>4</td>\n",
       "      <td>Arsenal</td>\n",
       "      <td>eng ENG</td>\n",
       "      <td>1</td>\n",
       "      <td>26</td>\n",
       "      <td>20</td>\n",
       "      <td>3</td>\n",
       "      <td>3</td>\n",
       "      <td>59</td>\n",
       "      <td>25</td>\n",
       "      <td>...</td>\n",
       "      <td>63</td>\n",
       "      <td>2.42</td>\n",
       "      <td>50.3</td>\n",
       "      <td>25.4</td>\n",
       "      <td>24.9</td>\n",
       "      <td>0.96</td>\n",
       "      <td>L W W W W</td>\n",
       "      <td>60196</td>\n",
       "      <td>Martinelli - 11</td>\n",
       "      <td>Aaron Ramsdale</td>\n",
       "    </tr>\n",
       "    <tr>\n",
       "      <th>4</th>\n",
       "      <td>5</td>\n",
       "      <td>Manchester City</td>\n",
       "      <td>eng ENG</td>\n",
       "      <td>2</td>\n",
       "      <td>26</td>\n",
       "      <td>18</td>\n",
       "      <td>4</td>\n",
       "      <td>4</td>\n",
       "      <td>66</td>\n",
       "      <td>25</td>\n",
       "      <td>...</td>\n",
       "      <td>58</td>\n",
       "      <td>2.23</td>\n",
       "      <td>54.1</td>\n",
       "      <td>21.3</td>\n",
       "      <td>32.7</td>\n",
       "      <td>1.26</td>\n",
       "      <td>W W D W W</td>\n",
       "      <td>53219</td>\n",
       "      <td>Erling Haaland - 27</td>\n",
       "      <td>Ederson</td>\n",
       "    </tr>\n",
       "  </tbody>\n",
       "</table>\n",
       "<p>5 rows × 21 columns</p>\n",
       "</div>"
      ],
      "text/plain": [
       "   Rk            Squad  Country  LgRk  MP   W  D  L  GF  GA  ...  Pts  Pts/MP  \\\n",
       "0   1           Napoli   it ITA     1  25  21  2  2  58  16  ...   65    2.60   \n",
       "1   2        Barcelona   es ESP     1  24  20  2  2  46   8  ...   62    2.58   \n",
       "2   3        Paris S-G   fr FRA     1  26  20  3  3  66  25  ...   63    2.42   \n",
       "3   4          Arsenal  eng ENG     1  26  20  3  3  59  25  ...   63    2.42   \n",
       "4   5  Manchester City  eng ENG     2  26  18  4  4  66  25  ...   58    2.23   \n",
       "\n",
       "     xG   xGA   xGD  xGD/90     Last 5 Attendance          Top Team Scorer  \\\n",
       "0  46.9  20.0  26.9    1.08  W W W W L      32077      Victor Osimhen - 19   \n",
       "1  48.2  19.6  28.7    1.19  W W W L W      82492  Robert Lewandowski - 15   \n",
       "2  56.2  30.9  25.3    0.97  W L W W W      42615       Kylian Mbappé - 18   \n",
       "3  50.3  25.4  24.9    0.96  L W W W W      60196          Martinelli - 11   \n",
       "4  54.1  21.3  32.7    1.26  W W D W W      53219      Erling Haaland - 27   \n",
       "\n",
       "              Goalkeeper  \n",
       "0             Alex Meret  \n",
       "1  Marc-André ter Stegen  \n",
       "2   Gianluigi Donnarumma  \n",
       "3         Aaron Ramsdale  \n",
       "4                Ederson  \n",
       "\n",
       "[5 rows x 21 columns]"
      ]
     },
     "execution_count": 2,
     "metadata": {},
     "output_type": "execute_result"
    }
   ],
   "source": [
    "import pandas as pd\n",
    "import matplotlib.pyplot as plt\n",
    "import seaborn as sns\n",
    "import numpy as np\n",
    "from pingouin import ttest\n",
    "from pingouin import anova\n",
    "\n",
    "df_big5leagues = pd.read_csv(\"futbol.csv\")\n",
    "df_big5leagues.head()"
   ]
  },
  {
   "attachments": {},
   "cell_type": "markdown",
   "metadata": {},
   "source": [
    "Con estos datos podemos responder a varias preguntas sobre los equipos y sus ligas."
   ]
  },
  {
   "attachments": {},
   "cell_type": "markdown",
   "metadata": {},
   "source": [
    "- La liga italiana ha tenido fama de defensiva, creo que se meten menos de dos goles de media por partido."
   ]
  },
  {
   "attachments": {},
   "cell_type": "markdown",
   "metadata": {},
   "source": [
    "Para responder esta pregunta primero creamos una columna en los datos que contiene el numero de goles de media por partido, para cada equipo.\n",
    "Con esto podemos mostrar un boxplot con las medias de goles, y calcular las medias para todos los equipos según su liga."
   ]
  },
  {
   "cell_type": "code",
   "execution_count": 3,
   "metadata": {},
   "outputs": [
    {
     "data": {
      "image/png": "[encoded data removed]",
      "text/plain": [
       "<Figure size 640x480 with 1 Axes>"
      ]
     },
     "metadata": {},
     "output_type": "display_data"
    },
    {
     "name": "stdout",
     "output_type": "stream",
     "text": [
      "Country\n",
      "de GER     1.579710\n",
      "eng ENG    1.356728\n",
      "es ESP     1.210417\n",
      "fr FRA     1.419231\n",
      "it ITA     1.258000\n",
      "Name: golesPorPartido, dtype: float64\n"
     ]
    }
   ],
   "source": [
    "df_big5leagues['golesPorPartido'] = df_big5leagues.GF/ df_big5leagues.MP\n",
    "df_big5leaguesES = df_big5leagues[df_big5leagues[\"Country\"] == \"es ESP\"]['golesPorPartido']\n",
    "df_big5leaguesITA = df_big5leagues[df_big5leagues[\"Country\"] == \"it ITA\"]['golesPorPartido']\n",
    "sns.boxplot(x=\"Country\",y=\"golesPorPartido\",data=df_big5leagues)\n",
    "plt.show()\n",
    "\n",
    "df_avgGoalsCountry = df_big5leagues.groupby(\"Country\")[\"golesPorPartido\"].mean()\n",
    "print(df_avgGoalsCountry)"
   ]
  },
  {
   "attachments": {},
   "cell_type": "markdown",
   "metadata": {},
   "source": [
    "Podemos mostrar las mismas visualizaciones con los goles encajados."
   ]
  },
  {
   "cell_type": "code",
   "execution_count": 4,
   "metadata": {},
   "outputs": [
    {
     "data": {
      "image/png": "[encoded data removed]",
      "text/plain": [
       "<Figure size 640x480 with 1 Axes>"
      ]
     },
     "metadata": {},
     "output_type": "display_data"
    },
    {
     "name": "stdout",
     "output_type": "stream",
     "text": [
      "Country\n",
      "de GER     1.579710\n",
      "eng ENG    1.356281\n",
      "es ESP     1.210417\n",
      "fr FRA     1.419231\n",
      "it ITA     1.258000\n",
      "Name: golesContraPorPartido, dtype: float64\n"
     ]
    }
   ],
   "source": [
    "df_big5leagues['golesContraPorPartido'] = df_big5leagues.GA/ df_big5leagues.MP\n",
    "sns.boxplot(x=\"Country\",y=\"golesContraPorPartido\",data=df_big5leagues)\n",
    "plt.show()\n",
    "\n",
    "df_avgContraGoalsCountry = df_big5leagues.groupby(\"Country\")[\"golesContraPorPartido\"].mean()\n",
    "print(df_avgContraGoalsCountry)"
   ]
  },
  {
   "attachments": {},
   "cell_type": "markdown",
   "metadata": {},
   "source": [
    "Para responder esta pregunta, realizando un analisis por muestreo podemos basarnos el la hipotesis nula que la media de goles en la liga italiana es igual a 2, i como hipotesis alternativa este valor es menor que 2.\n",
    "\n",
    "Al realizar el ttest vemos que el p-val es mucho menor que 0.05, así que podemos rechazar la hipotesis nula. La media de goles para la liga italiana no es 2, si no que es un numero menor."
   ]
  },
  {
   "cell_type": "code",
   "execution_count": 5,
   "metadata": {},
   "outputs": [
    {
     "name": "stdout",
     "output_type": "stream",
     "text": [
      "               T  dof alternative         p-val         CI95%   cohen-d  \\\n",
      "T-test -7.635297   19        less  1.663923e-07  [-inf, 1.43]  1.707304   \n",
      "\n",
      "             BF10  power  \n",
      "T-test  9.831e+04    1.0  \n"
     ]
    }
   ],
   "source": [
    "test_resultsITA2 = ttest(x=df_big5leaguesITA,y=2,alternative='less')\n",
    "print(test_resultsITA2)"
   ]
  },
  {
   "attachments": {},
   "cell_type": "markdown",
   "metadata": {},
   "source": [
    "Si realizamos el mismo proceso declarando que nuestra hipotesis nula es que la media de goles es 1. Y lo comprobamos, usando como alternativa que es mayor que uno, nos da un p-val de 0.078. Esto nos permite rechazar la hipotesis nula, pero vemos que es un valor no tan bajo como el anterior."
   ]
  },
  {
   "cell_type": "code",
   "execution_count": 6,
   "metadata": {},
   "outputs": [
    {
     "name": "stdout",
     "output_type": "stream",
     "text": [
      "               T  dof alternative     p-val        CI95%   cohen-d   BF10  \\\n",
      "T-test  2.654861   19     greater  0.007818  [1.09, inf]  0.593645  7.076   \n",
      "\n",
      "           power  \n",
      "T-test  0.819541  \n"
     ]
    }
   ],
   "source": [
    "test_resultsITA2 = ttest(x=df_big5leaguesITA,y=1,alternative='greater')\n",
    "print(test_resultsITA2)"
   ]
  },
  {
   "attachments": {},
   "cell_type": "markdown",
   "metadata": {},
   "source": [
    "Esto coincide con lo que se aprecia en las visualizaciones.\n",
    "Podemos seguir con la siguiente pregunta, haciendo otro analisis por muestreo."
   ]
  },
  {
   "attachments": {},
   "cell_type": "markdown",
   "metadata": {},
   "source": [
    "- ¿Se meten menos goles en Italia que en España?"
   ]
  },
  {
   "attachments": {},
   "cell_type": "markdown",
   "metadata": {},
   "source": [
    "Me voy a basar en la hipotesis (nula), que en España se metan los mismos goles que en Italia.\n",
    "Mi hipotesis alternativa va a ser que en España se meten mas goles que en Italia.\n",
    "Para realizar esta comprobacion voy a realizar un Ttest teiendo en cuenta la media de goles por partido.\n",
    "\n",
    "Hacemos lo mismo a la inversa, usando como hipotesis alternativa que son menos."
   ]
  },
  {
   "cell_type": "code",
   "execution_count": 7,
   "metadata": {},
   "outputs": [
    {
     "name": "stdout",
     "output_type": "stream",
     "text": [
      "               T  dof alternative    p-val         CI95%   cohen-d   BF10  \\\n",
      "T-test -0.381333   38     greater  0.64746  [-0.26, inf]  0.120588  0.655   \n",
      "\n",
      "           power  \n",
      "T-test  0.021719  \n",
      "               T  dof alternative    p-val         CI95%   cohen-d   BF10  \\\n",
      "T-test -0.381333   38        less  0.35254  [-inf, 0.16]  0.120588  0.655   \n",
      "\n",
      "           power  \n",
      "T-test  0.101995  \n"
     ]
    }
   ],
   "source": [
    "test_resultsGreater = ttest(x=df_big5leaguesES,y=df_big5leaguesITA,alternative='greater')\n",
    "print(test_resultsGreater)\n",
    "\n",
    "test_resultsLess = ttest(x=df_big5leaguesES,y=df_big5leaguesITA,alternative='less')\n",
    "print(test_resultsLess)"
   ]
  },
  {
   "attachments": {},
   "cell_type": "markdown",
   "metadata": {},
   "source": [
    "Para ambos casos obtenemos un p-val superior al 0.5 por lo tanto no podemos rechazar la hipotesis nula. En España no se meten los mismos goles que en Italia."
   ]
  },
  {
   "attachments": {},
   "cell_type": "markdown",
   "metadata": {},
   "source": [
    "- ¿Hay diferencia de goles entre ligas?, ¿en que liga se meten más goles?."
   ]
  },
  {
   "attachments": {},
   "cell_type": "markdown",
   "metadata": {},
   "source": [
    "Aqui usamos otro tipo de test, un analisis de varianza, y como hipotesis nula decimos que hay diferencias significativas entre el numero de goles.\n",
    "El p-value resultante es superior a 0.05 así que no hay suficiente evidencia para decir que hay una diferencia significativa según la liga."
   ]
  },
  {
   "cell_type": "code",
   "execution_count": 9,
   "metadata": {},
   "outputs": [
    {
     "name": "stdout",
     "output_type": "stream",
     "text": [
      "    Source  ddof1  ddof2         F     p-unc       np2\n",
      "0  Country      4     93  1.958386  0.107339  0.077688\n"
     ]
    }
   ],
   "source": [
    "results = anova(data=df_big5leagues, dv='golesPorPartido', between='Country')\n",
    "print(results)"
   ]
  },
  {
   "attachments": {},
   "cell_type": "markdown",
   "metadata": {},
   "source": [
    "Viendo las medias podemos ver que la liga que más goles mete es la alemana, con 1.57 goles por partido de media."
   ]
  },
  {
   "cell_type": "code",
   "execution_count": 11,
   "metadata": {},
   "outputs": [
    {
     "name": "stdout",
     "output_type": "stream",
     "text": [
      "Country\n",
      "de GER     1.579710\n",
      "eng ENG    1.356728\n",
      "es ESP     1.210417\n",
      "fr FRA     1.419231\n",
      "it ITA     1.258000\n",
      "Name: golesPorPartido, dtype: float64\n"
     ]
    }
   ],
   "source": [
    "print(df_avgGoalsCountry)"
   ]
  },
  {
   "attachments": {},
   "cell_type": "markdown",
   "metadata": {},
   "source": [
    "\n",
    "- ¿Se están metiendo menos goles en general en las 5 grandes ligas respecto el año pasado?"
   ]
  },
  {
   "attachments": {},
   "cell_type": "markdown",
   "metadata": {},
   "source": [
    "Cargamos el dataset con los valores para la temporada anterior, y como hipotesis nula establecemos que se marcan los mismos goles en las dos temporadas, \n",
    "y como alternativa que se marcan más goles este año."
   ]
  },
  {
   "cell_type": "code",
   "execution_count": 16,
   "metadata": {},
   "outputs": [
    {
     "name": "stdout",
     "output_type": "stream",
     "text": [
      "               T  dof alternative     p-val         CI95%   cohen-d   BF10  \\\n",
      "T-test -0.730667  194     greater  0.767068  [-0.16, inf]  0.104381  0.399   \n",
      "\n",
      "           power  \n",
      "T-test  0.008823  \n"
     ]
    }
   ],
   "source": [
    "df_big5leagues_prev = pd.read_csv('futbol2.csv')\n",
    "df_big5leagues_prev['golesPorPartido'] = df_big5leagues_prev.GF/ df_big5leagues_prev.MP\n",
    "\n",
    "ttest_res = ttest(x=df_big5leagues['golesPorPartido'], y=df_big5leagues_prev['golesPorPartido'], alternative='greater')\n",
    "print(ttest_res)"
   ]
  },
  {
   "attachments": {},
   "cell_type": "markdown",
   "metadata": {},
   "source": [
    "El p-va es muy superior al 5%, así que no podemos rechazar la hipotesis nula que se marcan los mismos goles. "
   ]
  },
  {
   "cell_type": "code",
   "execution_count": 14,
   "metadata": {},
   "outputs": [
    {
     "name": "stdout",
     "output_type": "stream",
     "text": [
      "1.4082264484741263\n",
      "1.3604315973881191\n"
     ]
    }
   ],
   "source": [
    "print(df_big5leagues_prev['golesPorPartido'].mean())\n",
    "\n",
    "print(df_big5leagues['golesPorPartido'].mean())"
   ]
  }
 ],
 "metadata": {
  "kernelspec": {
   "display_name": "Python 3",
   "language": "python",
   "name": "python3"
  },
  "language_info": {
   "codemirror_mode": {
    "name": "ipython",
    "version": 3
   },
   "file_extension": ".py",
   "mimetype": "text/x-python",
   "name": "python",
   "nbconvert_exporter": "python",
   "pygments_lexer": "ipython3",
   "version": "3.11.2"
  },
  "orig_nbformat": 4,
  "vscode": {
   "interpreter": {
    "hash": "bd2b2ca1604213b1fb7cea9e26e0eb690545209a930fa66a0c0d22423a282ac0"
   }
  }
 },
 "nbformat": 4,
 "nbformat_minor": 2
}
